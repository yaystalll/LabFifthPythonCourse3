{
 "cells": [
  {
   "cell_type": "code",
   "execution_count": 12,
   "id": "dd1f898a",
   "metadata": {},
   "outputs": [
    {
     "data": {
      "text/plain": [
       "5"
      ]
     },
     "execution_count": 12,
     "metadata": {},
     "output_type": "execute_result"
    }
   ],
   "source": [
    "N = ord(\"E\") % 5 + 1\n",
    "N"
   ]
  },
  {
   "cell_type": "code",
   "execution_count": 13,
   "id": "df315b00",
   "metadata": {},
   "outputs": [],
   "source": [
    "import pandas as pd\n",
    "\n",
    "lab6file = pd.read_excel('lab6.xlsx')"
   ]
  },
  {
   "cell_type": "code",
   "execution_count": 14,
   "id": "7285f8c2",
   "metadata": {},
   "outputs": [
    {
     "data": {
      "text/html": [
       "<div>\n",
       "<style scoped>\n",
       "    .dataframe tbody tr th:only-of-type {\n",
       "        vertical-align: middle;\n",
       "    }\n",
       "\n",
       "    .dataframe tbody tr th {\n",
       "        vertical-align: top;\n",
       "    }\n",
       "\n",
       "    .dataframe thead th {\n",
       "        text-align: right;\n",
       "    }\n",
       "</style>\n",
       "<table border=\"1\" class=\"dataframe\">\n",
       "  <thead>\n",
       "    <tr style=\"text-align: right;\">\n",
       "      <th></th>\n",
       "      <th>N</th>\n",
       "      <th>file name</th>\n",
       "      <th>image size</th>\n",
       "      <th>glasses color</th>\n",
       "      <th>line width</th>\n",
       "    </tr>\n",
       "  </thead>\n",
       "  <tbody>\n",
       "    <tr>\n",
       "      <th>0</th>\n",
       "      <td>1</td>\n",
       "      <td>emma-watson2.jpg</td>\n",
       "      <td>300x300</td>\n",
       "      <td>red</td>\n",
       "      <td>2</td>\n",
       "    </tr>\n",
       "    <tr>\n",
       "      <th>1</th>\n",
       "      <td>2</td>\n",
       "      <td>emma-watson.jpg</td>\n",
       "      <td>400x400</td>\n",
       "      <td>blue</td>\n",
       "      <td>3</td>\n",
       "    </tr>\n",
       "    <tr>\n",
       "      <th>2</th>\n",
       "      <td>3</td>\n",
       "      <td>draco.jpg</td>\n",
       "      <td>700x700</td>\n",
       "      <td>cian</td>\n",
       "      <td>4</td>\n",
       "    </tr>\n",
       "    <tr>\n",
       "      <th>3</th>\n",
       "      <td>4</td>\n",
       "      <td>longbottom.jpg</td>\n",
       "      <td>600x600</td>\n",
       "      <td>magenta</td>\n",
       "      <td>5</td>\n",
       "    </tr>\n",
       "    <tr>\n",
       "      <th>4</th>\n",
       "      <td>5</td>\n",
       "      <td>ron_wesley.jpg</td>\n",
       "      <td>500x500</td>\n",
       "      <td>yellow</td>\n",
       "      <td>6</td>\n",
       "    </tr>\n",
       "  </tbody>\n",
       "</table>\n",
       "</div>"
      ],
      "text/plain": [
       "   N         file name image size glasses color  line width\n",
       "0  1  emma-watson2.jpg    300x300           red           2\n",
       "1  2   emma-watson.jpg    400x400          blue           3\n",
       "2  3         draco.jpg    700x700          cian           4\n",
       "3  4    longbottom.jpg    600x600       magenta           5\n",
       "4  5    ron_wesley.jpg    500x500        yellow           6"
      ]
     },
     "execution_count": 14,
     "metadata": {},
     "output_type": "execute_result"
    }
   ],
   "source": [
    "lab6file.head(5)"
   ]
  },
  {
   "cell_type": "code",
   "execution_count": 21,
   "id": "1b42b5d8",
   "metadata": {},
   "outputs": [],
   "source": [
    "import cv2\n",
    "from PIL import Image, ImageDraw\n",
    "\n",
    "face_detector = cv2.CascadeClassifier(cv2.data.haarcascades + 'haarcascade_frontalface_default.xml')\n",
    "eye_detector = cv2.CascadeClassifier(cv2.data.haarcascades + 'haarcascade_eye.xml')\n",
    "\n",
    "def add_glasses_to_image(input_image_path, output_image_path, glasses_color, line_thickness, image_size=None):\n",
    "    original_image = cv2.imread(input_image_path)\n",
    "    grayscale_image = cv2.cvtColor(original_image, cv2.COLOR_BGR2GRAY)\n",
    "    \n",
    "    detected_faces = face_detector.detectMultiScale(grayscale_image, scaleFactor=1.3, minNeighbors=4)\n",
    "\n",
    "    pil_image = Image.open(input_image_path)\n",
    "    drawer = ImageDraw.Draw(pil_image)\n",
    "\n",
    "    for (x, y, width, height) in detected_faces:\n",
    "        face_region = grayscale_image[y:y + height, x:x + width]\n",
    "\n",
    "        detected_eyes = eye_detector.detectMultiScale(face_region, scaleFactor=1.1, minNeighbors=5, minSize=(30, 30))\n",
    "        if len(detected_eyes) < 2:\n",
    "            continue\n",
    "\n",
    "        detected_eyes = sorted(detected_eyes, key=lambda eye: eye[0])[:2]\n",
    "        \n",
    "        if abs(detected_eyes[0][1] - detected_eyes[1][1]) > 20:\n",
    "            continue\n",
    "\n",
    "        left_eye_center = (x + detected_eyes[0][0] + detected_eyes[0][2] // 2, y + detected_eyes[0][1] + detected_eyes[0][3] // 2)\n",
    "        right_eye_center = (x + detected_eyes[1][0] + detected_eyes[1][2] // 2, y + detected_eyes[1][1] + detected_eyes[1][3] // 2)\n",
    "\n",
    "        glasses_radius = (right_eye_center[0] - left_eye_center[0]) // 3\n",
    "\n",
    "        drawer.ellipse((left_eye_center[0] - glasses_radius, left_eye_center[1] - glasses_radius,\n",
    "                        left_eye_center[0] + glasses_radius, left_eye_center[1] + glasses_radius),\n",
    "                       outline=glasses_color, width=line_thickness)\n",
    "        drawer.ellipse((right_eye_center[0] - glasses_radius, right_eye_center[1] - glasses_radius,\n",
    "                        right_eye_center[0] + glasses_radius, right_eye_center[1] + glasses_radius),\n",
    "                       outline=glasses_color, width=line_thickness)\n",
    "        \n",
    "        drawer.line((left_eye_center[0] + glasses_radius, left_eye_center[1],\n",
    "                     right_eye_center[0] - glasses_radius, right_eye_center[1]),\n",
    "                    fill=glasses_color, width=line_thickness)\n",
    "\n",
    "        drawer.line((left_eye_center[0] - glasses_radius, left_eye_center[1],\n",
    "                     left_eye_center[0] - glasses_radius - 50, left_eye_center[1]),\n",
    "                    fill=glasses_color, width=line_thickness)\n",
    "        drawer.line((right_eye_center[0] + glasses_radius, right_eye_center[1],\n",
    "                     right_eye_center[0] + glasses_radius + 50, right_eye_center[1]),\n",
    "                    fill=glasses_color, width=line_thickness)\n",
    "\n",
    "    if image_size:\n",
    "        pil_image = pil_image.resize(image_size, Image.Resampling.LANCZOS)\n",
    "    \n",
    "    pil_image.save(output_image_path)"
   ]
  },
  {
   "cell_type": "code",
   "execution_count": 22,
   "id": "aec7b47e",
   "metadata": {},
   "outputs": [],
   "source": [
    "add_glasses_to_image(\n",
    "    \"Images/ron_wesley.jpg\", \n",
    "    \"final.jpg\", \n",
    "    glasses_color=\"yellow\", \n",
    "    line_thickness=6, \n",
    "    image_size=(500, 500)\n",
    ")"
   ]
  },
  {
   "cell_type": "code",
   "execution_count": null,
   "id": "c2c6053b",
   "metadata": {},
   "outputs": [],
   "source": []
  },
  {
   "cell_type": "code",
   "execution_count": null,
   "id": "bfa7ba72",
   "metadata": {},
   "outputs": [],
   "source": []
  }
 ],
 "metadata": {
  "kernelspec": {
   "display_name": "Python 3 (ipykernel)",
   "language": "python",
   "name": "python3"
  },
  "language_info": {
   "codemirror_mode": {
    "name": "ipython",
    "version": 3
   },
   "file_extension": ".py",
   "mimetype": "text/x-python",
   "name": "python",
   "nbconvert_exporter": "python",
   "pygments_lexer": "ipython3",
   "version": "3.11.5"
  }
 },
 "nbformat": 4,
 "nbformat_minor": 5
}
